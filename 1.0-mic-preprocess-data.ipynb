{
 "cells": [
  {
   "cell_type": "markdown",
   "source": [
    "This notebook loads the files as `AudioSegment`, trims silences, and writes them as mono-channel .wav at 16 kHz."
   ],
   "metadata": {}
  },
  {
   "cell_type": "code",
   "execution_count": 1,
   "source": [
    "from os import walk\r\n",
    "from pydub import AudioSegment, effects\r\n",
    "from pydub.silence import detect_leading_silence\r\n",
    "from tqdm import tqdm"
   ],
   "outputs": [],
   "metadata": {}
  },
  {
   "cell_type": "code",
   "execution_count": 2,
   "source": [
    "# %load_ext ipycache\r\n",
    "# %load_ext blackcellmagic"
   ],
   "outputs": [],
   "metadata": {}
  },
  {
   "cell_type": "code",
   "execution_count": 3,
   "source": [
    "DISCOURSE_CONTEXT = {\r\n",
    "    \"aesdd\": False,\r\n",
    "    \"BAUM1\": False,\r\n",
    "    \"BAUM2\": True,\r\n",
    "    \"cafe\": False,\r\n",
    "    \"CREMA-D\": False,\r\n",
    "    \"dzafic\": False,\r\n",
    "    \"ekorpus\": False,\r\n",
    "    \"EmoDB\": False,\r\n",
    "    \"EmoReact_V_1.0\": True,\r\n",
    "    \"Emotional_EMA\": False,\r\n",
    "    \"EmoV-DB_sorted\": False,\r\n",
    "    \"enterface_db\": False,\r\n",
    "    \"esd\": False,\r\n",
    "    \"EYASE\": True,\r\n",
    "    \"jl-corpus\": False,\r\n",
    "    \"LimaCastroScott\": False,\r\n",
    "    \"LEGOv2\": True,\r\n",
    "    \"MAV\": False,\r\n",
    "    \"MELD\": True,\r\n",
    "    \"MESS\": False,\r\n",
    "    \"oreau2\": False,\r\n",
    "    \"ravdess\": False,\r\n",
    "    \"savee\": False,\r\n",
    "    \"ShEMO\": True,\r\n",
    "    \"tess\": False,\r\n",
    "    \"urdu\": True,\r\n",
    "    \"vivae\": False,\r\n",
    "}"
   ],
   "outputs": [],
   "metadata": {}
  },
  {
   "cell_type": "code",
   "execution_count": 4,
   "source": [
    "IN_FOLDER = \"data/interim\"\r\n",
    "OUT_FOLDER = \"data/preprocessed\""
   ],
   "outputs": [],
   "metadata": {}
  },
  {
   "cell_type": "code",
   "execution_count": 5,
   "source": [
    "list_of_files = [file_ for _, _, files in walk(IN_FOLDER) for file_ in files]\r\n",
    "len(list_of_files)"
   ],
   "outputs": [
    {
     "output_type": "execute_result",
     "data": {
      "text/plain": [
       "87364"
      ]
     },
     "metadata": {},
     "execution_count": 5
    }
   ],
   "metadata": {}
  },
  {
   "cell_type": "code",
   "execution_count": 6,
   "source": [
    "datasets = set(DISCOURSE_CONTEXT.keys())\r\n",
    "samples = []\r\n",
    "# Take 1 sample from each dataset\r\n",
    "for file in list_of_files:\r\n",
    "    if (dataset_name := file.split(\"+\", maxsplit=2)[1]) in datasets:\r\n",
    "        datasets.remove(dataset_name)\r\n",
    "        samples.append(file.strip())\r\n",
    "    if not datasets:\r\n",
    "        break\r\n",
    "samples"
   ],
   "outputs": [
    {
     "output_type": "execute_result",
     "data": {
      "text/plain": [
       "['00000+aesdd+aesdd.1+f+ang+-1+ell+el-gr.wav',\n",
       " '00604+BAUM1+BAUM1.s001+m+ang+-1+tur+tr-tr.mp4',\n",
       " '01908+BAUM2+BAUM2.S002+m+con+-1+eng+en.wav',\n",
       " '02255+cafe+cafe.01+m+ang+-1+fra+fr-ca.aiff',\n",
       " '03191+CREMA-D+CREMA-D.1005+m+ang+-1+eng+en-us.wav',\n",
       " '10064+dzafic+dzafic.0+f+ang+-1+eng+en-au.avi',\n",
       " '10070+ekorpus+ekorpus.0+f+hap+1+est+et-ee.wav',\n",
       " '10937+EmoDB+EmoDB.03+m+hap+1+deu+de-de.wav',\n",
       " '11472+EmoReact_V_1.0+EmoReact_V_1.0.train4+m+unc+-1+eng+en.mp4',\n",
       " '12409+Emotional_EMA+Emotional_EMA.abe+m+ang+-1+eng+en-us.wav',\n",
       " '13031+EmoV-DB_sorted+EmoV-DB_sorted.bea+f+amu+1+eng+en-us.wav',\n",
       " '18203+enterface_db+enterface_db.1+m+ang+-1+eng+en.avi',\n",
       " '19496+esd+esd.0001+f+sur+-1+cmn+zh-cn.wav',\n",
       " '54496+EYASE+EYASE.Male03+m+ang+-1+arz+ar-eg.wav',\n",
       " '55075+jl-corpus+jl-corpus.female1+f+ang+-1+eng+en-nz.wav',\n",
       " '56755+LEGOv2+LEGOv2.20061123)000+f+neu+0+eng+en-us.wav',\n",
       " '60998+LimaCastroScott+LimaCastroScott.C+m+ach+1+por+pt-pt.wav',\n",
       " '61115+MAV+MAV.42+m+ang+-1+fra+fr-ca.wav',\n",
       " '61205+MELD+MELD.Chloe+f+neu+0+eng+en-us.mp4',\n",
       " '74906+MESS+MESS.M2+m+ang+-1+eng+en-us.wav',\n",
       " '76706+oreau2+oreau2.07+m+ang+-1+fra+fr.wav',\n",
       " '77140+ravdess+ravdess.01+m+neu+0+eng+en-ca.wav',\n",
       " '79592+savee+savee.JK+m+ang+-1+eng+en-gb.wav',\n",
       " '80079+ShEMO+ShEMO.M01+m+hap+1+pes+fa-ir.wav',\n",
       " '83079+tess+tess.OAF+f+ang+-1+eng+en-ca.wav',\n",
       " '85879+urdu+urdu.SF1+f+hap+1+urd+ur.wav',\n",
       " '86279+vivae+vivae.S01+f+ach+1+eng+en-us.wav']"
      ]
     },
     "metadata": {},
     "execution_count": 6
    }
   ],
   "metadata": {}
  },
  {
   "cell_type": "code",
   "execution_count": 7,
   "source": [
    "def load_file(in_path: str) -> AudioSegment:\r\n",
    "    \"Load and return an AudioSegment from file.\"\r\n",
    "    try:\r\n",
    "        return AudioSegment.from_file(\r\n",
    "            in_path, format=in_path.rsplit(\".\", maxsplit=1)[-1]\r\n",
    "        )\r\n",
    "    except:\r\n",
    "        try:\r\n",
    "            return AudioSegment.from_file(in_path)\r\n",
    "        except:\r\n",
    "            try:\r\n",
    "                return AudioSegment.from_file(in_path, format=\"wav\")\r\n",
    "            except:\r\n",
    "                try:\r\n",
    "                    return AudioSegment.from_wav(in_path)\r\n",
    "                except:\r\n",
    "                    try:\r\n",
    "                        return AudioSegment.from_file_using_temporary_files(in_path)\r\n",
    "                    except:\r\n",
    "                        try:\r\n",
    "                            return AudioSegment.from_file(in_path, format=\"aac\")\r\n",
    "                        except:\r\n",
    "                            return AudioSegment.from_file(in_path, codec=\"pcm_u16be\")"
   ],
   "outputs": [],
   "metadata": {}
  },
  {
   "cell_type": "code",
   "execution_count": 8,
   "source": [
    "trim_leading_silence: AudioSegment = lambda x: x[\r\n",
    "    detect_leading_silence(x, silence_threshold=-60.0) :\r\n",
    "]\r\n",
    "# detect_leading_silence(_) should return 0 if no leading silence found.\r\n",
    "# detect_leading_silence() should return len(_) if no end is found (it's all silent) and raise IndexError as a result\r\n",
    "# default silence_threshold is -50.0 dFBS; lowering it reduces the amount of information lost (in theory)"
   ],
   "outputs": [],
   "metadata": {}
  },
  {
   "cell_type": "code",
   "execution_count": 9,
   "source": [
    "def process_audio(file_: str) -> int:\r\n",
    "    \"Load, trim, set sample width, set to mono, set frame rate, and write a sound file to OUT_FOLDER.\"\r\n",
    "    \"Returns 1 if zero duration detected after trim operations, 2 if longer than 1 minute, or 0 after export.\"\r\n",
    "\r\n",
    "    # Load\r\n",
    "    _ = load_file(in_file := f\"{IN_FOLDER}/{file_}\")\r\n",
    "\r\n",
    "    # Sample width 16 bits\r\n",
    "    try:\r\n",
    "        _ = _.set_sample_width(2)\r\n",
    "    except:\r\n",
    "        _ = AudioSegment.from_file_using_temporary_files(in_file).set_sample_width(2)\r\n",
    "    # Normalize\r\n",
    "    _ = effects.normalize(_)\r\n",
    "\r\n",
    "    # Trim silence\r\n",
    "    try:\r\n",
    "        _ = trim_leading_silence(_)\r\n",
    "        if not DISCOURSE_CONTEXT[file_.split(\"+\", maxsplit=2)[1]]:\r\n",
    "            _ = trim_leading_silence(_.reverse()).reverse()\r\n",
    "    except IndexError:\r\n",
    "        print(\"all silence detected during trim for {file_}\")\r\n",
    "        return 1\r\n",
    "    # Filter short and long\r\n",
    "    if (duration := len(_)) < 200:\r\n",
    "        print(f\"{file_} is less than 200 ms after trim\")\r\n",
    "        return 1\r\n",
    "    if duration > 60000:\r\n",
    "        print(f\"{file_} exceeds 1 minute in duration\")\r\n",
    "        return 2\r\n",
    "    # Set mono 16 kHz\r\n",
    "    _ = _.set_channels(1)\r\n",
    "    _ = _.set_frame_rate(16000)\r\n",
    "\r\n",
    "    # Write\r\n",
    "    _.export(\r\n",
    "        out_f=f\"{OUT_FOLDER}/{file_.rsplit('.', maxsplit=1)[0]}.wav\",\r\n",
    "        format=\"wav\",\r\n",
    "        codec=\"pcm_s16le\",\r\n",
    "        bitrate=\"128k\",\r\n",
    "    )\r\n",
    "\r\n",
    "    return 0"
   ],
   "outputs": [],
   "metadata": {}
  },
  {
   "cell_type": "code",
   "execution_count": 10,
   "source": [
    "for sample_file in samples:\r\n",
    "    if process_audio(sample_file):\r\n",
    "        break\r\n",
    "else:\r\n",
    "    print(\"no problems so far\")"
   ],
   "outputs": [
    {
     "output_type": "stream",
     "name": "stdout",
     "text": [
      "no problems so far\n"
     ]
    }
   ],
   "metadata": {}
  },
  {
   "cell_type": "code",
   "execution_count": 11,
   "source": [
    "bad_files, short_files, long_files = [], [], []\r\n",
    "\r\n",
    "for sample_file in tqdm(list_of_files):\r\n",
    "    try:\r\n",
    "        if (return_code := process_audio(sample_file)) == 1:\r\n",
    "            short_files.append(sample_file)\r\n",
    "        elif return_code == 2:\r\n",
    "            long_files.append(sample_file)\r\n",
    "    except Exception as e:\r\n",
    "        bad_files.append((sample_file, e))\r\n",
    "else:\r\n",
    "    print(\"no problems in conversion\")"
   ],
   "outputs": [
    {
     "output_type": "stream",
     "name": "stderr",
     "text": [
      "  1%|          | 884/87364 [03:56<6:48:17,  3.53it/s]"
     ]
    },
    {
     "output_type": "stream",
     "name": "stdout",
     "text": [
      "00883+BAUM1+BAUM1.s001+m+hap+1+tur+tr-tr.mp4 is less than 200 ms after trim\n"
     ]
    },
    {
     "output_type": "stream",
     "name": "stderr",
     "text": [
      "  1%|          | 897/87364 [04:00<6:41:08,  3.59it/s]"
     ]
    },
    {
     "output_type": "stream",
     "name": "stdout",
     "text": [
      "00896+BAUM1+BAUM1.s002+m+hap+1+tur+tr-tr.mp4 is less than 200 ms after trim\n"
     ]
    },
    {
     "output_type": "stream",
     "name": "stderr",
     "text": [
      "  1%|          | 931/87364 [04:11<6:34:32,  3.65it/s]"
     ]
    },
    {
     "output_type": "stream",
     "name": "stdout",
     "text": [
      "00930+BAUM1+BAUM1.s003+m+hap+1+tur+tr-tr.mp4 is less than 200 ms after trim\n"
     ]
    },
    {
     "output_type": "stream",
     "name": "stderr",
     "text": [
      "  1%|          | 961/87364 [04:20<6:03:05,  3.97it/s]"
     ]
    },
    {
     "output_type": "stream",
     "name": "stdout",
     "text": [
      "00960+BAUM1+BAUM1.s004+m+hap+1+tur+tr-tr.mp4 is less than 200 ms after trim\n"
     ]
    },
    {
     "output_type": "stream",
     "name": "stderr",
     "text": [
      "  1%|          | 990/87364 [04:28<6:22:21,  3.76it/s]"
     ]
    },
    {
     "output_type": "stream",
     "name": "stdout",
     "text": [
      "00989+BAUM1+BAUM1.s006+m+hap+1+tur+tr-tr.mp4 is less than 200 ms after trim\n"
     ]
    },
    {
     "output_type": "stream",
     "name": "stderr",
     "text": [
      "  1%|          | 1048/87364 [04:46<6:40:54,  3.59it/s]"
     ]
    },
    {
     "output_type": "stream",
     "name": "stdout",
     "text": [
      "01047+BAUM1+BAUM1.s008+m+hap+1+tur+tr-tr.mp4 is less than 200 ms after trim\n"
     ]
    },
    {
     "output_type": "stream",
     "name": "stderr",
     "text": [
      "  1%|          | 1075/87364 [04:54<6:42:23,  3.57it/s]"
     ]
    },
    {
     "output_type": "stream",
     "name": "stdout",
     "text": [
      "01074+BAUM1+BAUM1.s009+m+hap+1+tur+tr-tr.mp4 is less than 200 ms after trim\n"
     ]
    },
    {
     "output_type": "stream",
     "name": "stderr",
     "text": [
      "  1%|▏         | 1106/87364 [05:03<6:54:34,  3.47it/s]"
     ]
    },
    {
     "output_type": "stream",
     "name": "stdout",
     "text": [
      "01105+BAUM1+BAUM1.s009+m+fea+-1+tur+tr-tr.mp4 is less than 200 ms after trim\n"
     ]
    },
    {
     "output_type": "stream",
     "name": "stderr",
     "text": [
      "  1%|▏         | 1121/87364 [05:08<6:15:28,  3.83it/s]"
     ]
    },
    {
     "output_type": "stream",
     "name": "stdout",
     "text": [
      "01120+BAUM1+BAUM1.s010+f+hap+1+tur+tr-tr.mp4 is less than 200 ms after trim\n"
     ]
    },
    {
     "output_type": "stream",
     "name": "stderr",
     "text": [
      "  1%|▏         | 1160/87364 [05:19<5:26:34,  4.40it/s]"
     ]
    },
    {
     "output_type": "stream",
     "name": "stdout",
     "text": [
      "01158+BAUM1+BAUM1.s010+f+sur+-1+tur+tr-tr.mp4 is less than 200 ms after trim\n",
      "01159+BAUM1+BAUM1.s010+f+fea+-1+tur+tr-tr.mp4 is less than 200 ms after trim\n"
     ]
    },
    {
     "output_type": "stream",
     "name": "stderr",
     "text": [
      "  1%|▏         | 1163/87364 [05:20<5:26:22,  4.40it/s]"
     ]
    },
    {
     "output_type": "stream",
     "name": "stdout",
     "text": [
      "01162+BAUM1+BAUM1.s011+m+hap+1+tur+tr-tr.mp4 is less than 200 ms after trim\n"
     ]
    },
    {
     "output_type": "stream",
     "name": "stderr",
     "text": [
      "  1%|▏         | 1175/87364 [05:23<6:16:06,  3.82it/s]"
     ]
    },
    {
     "output_type": "stream",
     "name": "stdout",
     "text": [
      "01174+BAUM1+BAUM1.s011+m+hap+1+tur+tr-tr.mp4 is less than 200 ms after trim\n"
     ]
    },
    {
     "output_type": "stream",
     "name": "stderr",
     "text": [
      "  1%|▏         | 1187/87364 [05:26<6:03:49,  3.95it/s]"
     ]
    },
    {
     "output_type": "stream",
     "name": "stdout",
     "text": [
      "01186+BAUM1+BAUM1.s012+f+hap+1+tur+tr-tr.mp4 is less than 200 ms after trim\n"
     ]
    },
    {
     "output_type": "stream",
     "name": "stderr",
     "text": [
      "  1%|▏         | 1211/87364 [05:33<5:19:02,  4.50it/s]"
     ]
    },
    {
     "output_type": "stream",
     "name": "stdout",
     "text": [
      "01209+BAUM1+BAUM1.s012+f+sad+-1+tur+tr-tr.mp4 is less than 200 ms after trim\n",
      "01210+BAUM1+BAUM1.s012+f+bot+-1+tur+tr-tr.mp4 is less than 200 ms after trim\n"
     ]
    },
    {
     "output_type": "stream",
     "name": "stderr",
     "text": [
      "  1%|▏         | 1213/87364 [05:33<4:51:08,  4.93it/s]"
     ]
    },
    {
     "output_type": "stream",
     "name": "stdout",
     "text": [
      "01211+BAUM1+BAUM1.s012+f+sur+-1+tur+tr-tr.mp4 is less than 200 ms after trim\n",
      "01212+BAUM1+BAUM1.s012+f+sur+-1+tur+tr-tr.mp4 is less than 200 ms after trim\n"
     ]
    },
    {
     "output_type": "stream",
     "name": "stderr",
     "text": [
      "  1%|▏         | 1220/87364 [05:35<5:16:33,  4.54it/s]"
     ]
    },
    {
     "output_type": "stream",
     "name": "stdout",
     "text": [
      "01218+BAUM1+BAUM1.s013+m+hap+1+tur+tr-tr.mp4 is less than 200 ms after trim\n",
      "01219+BAUM1+BAUM1.s013+m+hap+1+tur+tr-tr.mp4 is less than 200 ms after trim\n"
     ]
    },
    {
     "output_type": "stream",
     "name": "stderr",
     "text": [
      "  1%|▏         | 1248/87364 [05:43<5:54:08,  4.05it/s]"
     ]
    },
    {
     "output_type": "stream",
     "name": "stdout",
     "text": [
      "01247+BAUM1+BAUM1.s014+m+hap+1+tur+tr-tr.mp4 is less than 200 ms after trim\n"
     ]
    },
    {
     "output_type": "stream",
     "name": "stderr",
     "text": [
      "  1%|▏         | 1266/87364 [05:48<6:10:05,  3.88it/s]"
     ]
    },
    {
     "output_type": "stream",
     "name": "stdout",
     "text": [
      "01265+BAUM1+BAUM1.s014+m+bot+-1+tur+tr-tr.mp4 is less than 200 ms after trim\n"
     ]
    },
    {
     "output_type": "stream",
     "name": "stderr",
     "text": [
      "  1%|▏         | 1277/87364 [05:51<5:49:44,  4.10it/s]"
     ]
    },
    {
     "output_type": "stream",
     "name": "stdout",
     "text": [
      "01275+BAUM1+BAUM1.s015+m+hap+1+tur+tr-tr.mp4 is less than 200 ms after trim\n",
      "01276+BAUM1+BAUM1.s015+m+hap+1+tur+tr-tr.mp4 is less than 200 ms after trim\n"
     ]
    },
    {
     "output_type": "stream",
     "name": "stderr",
     "text": [
      "  1%|▏         | 1278/87364 [05:51<5:26:48,  4.39it/s]"
     ]
    },
    {
     "output_type": "stream",
     "name": "stdout",
     "text": [
      "01277+BAUM1+BAUM1.s015+m+hap+1+tur+tr-tr.mp4 is less than 200 ms after trim\n"
     ]
    },
    {
     "output_type": "stream",
     "name": "stderr",
     "text": [
      "  1%|▏         | 1297/87364 [05:56<5:36:05,  4.27it/s]"
     ]
    },
    {
     "output_type": "stream",
     "name": "stdout",
     "text": [
      "01295+BAUM1+BAUM1.s015+m+dis+-1+tur+tr-tr.mp4 is less than 200 ms after trim\n",
      "01296+BAUM1+BAUM1.s015+m+dis+-1+tur+tr-tr.mp4 is less than 200 ms after trim\n"
     ]
    },
    {
     "output_type": "stream",
     "name": "stderr",
     "text": [
      "  1%|▏         | 1301/87364 [05:58<7:57:22,  3.00it/s]"
     ]
    },
    {
     "output_type": "stream",
     "name": "stdout",
     "text": [
      "01300+BAUM1+BAUM1.s015+m+dis+-1+tur+tr-tr.mp4 is less than 200 ms after trim\n"
     ]
    },
    {
     "output_type": "stream",
     "name": "stderr",
     "text": [
      "  1%|▏         | 1303/87364 [05:58<7:15:58,  3.29it/s]"
     ]
    },
    {
     "output_type": "stream",
     "name": "stdout",
     "text": [
      "01302+BAUM1+BAUM1.s015+m+dis+-1+tur+tr-tr.mp4 is less than 200 ms after trim\n"
     ]
    },
    {
     "output_type": "stream",
     "name": "stderr",
     "text": [
      "  1%|▏         | 1305/87364 [05:59<6:54:19,  3.46it/s]"
     ]
    },
    {
     "output_type": "stream",
     "name": "stdout",
     "text": [
      "01304+BAUM1+BAUM1.s016+m+hap+1+tur+tr-tr.mp4 is less than 200 ms after trim\n"
     ]
    },
    {
     "output_type": "stream",
     "name": "stderr",
     "text": [
      "  1%|▏         | 1308/87364 [06:00<6:20:56,  3.77it/s]"
     ]
    },
    {
     "output_type": "stream",
     "name": "stdout",
     "text": [
      "01307+BAUM1+BAUM1.s016+m+hap+1+tur+tr-tr.mp4 is less than 200 ms after trim\n"
     ]
    },
    {
     "output_type": "stream",
     "name": "stderr",
     "text": [
      "  2%|▏         | 1314/87364 [06:02<6:44:12,  3.55it/s]"
     ]
    },
    {
     "output_type": "stream",
     "name": "stdout",
     "text": [
      "01313+BAUM1+BAUM1.s016+m+sur+-1+tur+tr-tr.mp4 is less than 200 ms after trim\n"
     ]
    },
    {
     "output_type": "stream",
     "name": "stderr",
     "text": [
      "  2%|▏         | 1325/87364 [06:05<6:22:46,  3.75it/s]"
     ]
    },
    {
     "output_type": "stream",
     "name": "stdout",
     "text": [
      "01324+BAUM1+BAUM1.s017+f+hap+1+tur+tr-tr.mp4 is less than 200 ms after trim\n"
     ]
    },
    {
     "output_type": "stream",
     "name": "stderr",
     "text": [
      "  2%|▏         | 1326/87364 [06:05<6:06:11,  3.92it/s]"
     ]
    },
    {
     "output_type": "stream",
     "name": "stdout",
     "text": [
      "01325+BAUM1+BAUM1.s017+f+hap+1+tur+tr-tr.mp4 is less than 200 ms after trim\n"
     ]
    },
    {
     "output_type": "stream",
     "name": "stderr",
     "text": [
      "  2%|▏         | 1359/87364 [06:14<6:05:52,  3.92it/s]"
     ]
    },
    {
     "output_type": "stream",
     "name": "stdout",
     "text": [
      "01358+BAUM1+BAUM1.s018+m+hap+1+tur+tr-tr.mp4 is less than 200 ms after trim\n"
     ]
    },
    {
     "output_type": "stream",
     "name": "stderr",
     "text": [
      "  2%|▏         | 1361/87364 [06:15<5:50:25,  4.09it/s]"
     ]
    },
    {
     "output_type": "stream",
     "name": "stdout",
     "text": [
      "01360+BAUM1+BAUM1.s018+m+hap+1+tur+tr-tr.mp4 is less than 200 ms after trim\n"
     ]
    },
    {
     "output_type": "stream",
     "name": "stderr",
     "text": [
      "  2%|▏         | 1371/87364 [06:18<6:25:56,  3.71it/s]"
     ]
    },
    {
     "output_type": "stream",
     "name": "stdout",
     "text": [
      "01370+BAUM1+BAUM1.s018+m+hap+1+tur+tr-tr.mp4 is less than 200 ms after trim\n"
     ]
    },
    {
     "output_type": "stream",
     "name": "stderr",
     "text": [
      "  2%|▏         | 1391/87364 [06:24<6:17:12,  3.80it/s]"
     ]
    },
    {
     "output_type": "stream",
     "name": "stdout",
     "text": [
      "01389+BAUM1+BAUM1.s019+f+hap+1+tur+tr-tr.mp4 is less than 200 ms after trim\n",
      "01390+BAUM1+BAUM1.s019+f+hap+1+tur+tr-tr.mp4 is less than 200 ms after trim\n"
     ]
    },
    {
     "output_type": "stream",
     "name": "stderr",
     "text": [
      "  2%|▏         | 1424/87364 [06:34<6:11:21,  3.86it/s]"
     ]
    },
    {
     "output_type": "stream",
     "name": "stdout",
     "text": [
      "01423+BAUM1+BAUM1.s019+f+sur+-1+tur+tr-tr.mp4 is less than 200 ms after trim\n"
     ]
    },
    {
     "output_type": "stream",
     "name": "stderr",
     "text": [
      "  2%|▏         | 1482/87364 [06:50<6:03:54,  3.93it/s]"
     ]
    },
    {
     "output_type": "stream",
     "name": "stdout",
     "text": [
      "01481+BAUM1+BAUM1.s021+f+hap+1+tur+tr-tr.mp4 is less than 200 ms after trim\n"
     ]
    },
    {
     "output_type": "stream",
     "name": "stderr",
     "text": [
      "  2%|▏         | 1484/87364 [06:50<5:39:17,  4.22it/s]"
     ]
    },
    {
     "output_type": "stream",
     "name": "stdout",
     "text": [
      "01483+BAUM1+BAUM1.s021+f+hap+1+tur+tr-tr.mp4 is less than 200 ms after trim\n"
     ]
    },
    {
     "output_type": "stream",
     "name": "stderr",
     "text": [
      "  2%|▏         | 1492/87364 [06:52<5:44:23,  4.16it/s]"
     ]
    },
    {
     "output_type": "stream",
     "name": "stdout",
     "text": [
      "01491+BAUM1+BAUM1.s021+f+sur+-1+tur+tr-tr.mp4 is less than 200 ms after trim\n"
     ]
    },
    {
     "output_type": "stream",
     "name": "stderr",
     "text": [
      "  2%|▏         | 1542/87364 [07:06<5:39:01,  4.22it/s]"
     ]
    },
    {
     "output_type": "stream",
     "name": "stdout",
     "text": [
      "01541+BAUM1+BAUM1.s021+f+sur+-1+tur+tr-tr.mp4 is less than 200 ms after trim\n"
     ]
    },
    {
     "output_type": "stream",
     "name": "stderr",
     "text": [
      "  2%|▏         | 1547/87364 [07:07<5:41:31,  4.19it/s]"
     ]
    },
    {
     "output_type": "stream",
     "name": "stdout",
     "text": [
      "01546+BAUM1+BAUM1.s021+f+sur+-1+tur+tr-tr.mp4 is less than 200 ms after trim\n"
     ]
    },
    {
     "output_type": "stream",
     "name": "stderr",
     "text": [
      "  2%|▏         | 1563/87364 [07:12<6:44:55,  3.53it/s]"
     ]
    },
    {
     "output_type": "stream",
     "name": "stdout",
     "text": [
      "01562+BAUM1+BAUM1.s022+f+hap+1+tur+tr-tr.mp4 is less than 200 ms after trim\n"
     ]
    },
    {
     "output_type": "stream",
     "name": "stderr",
     "text": [
      "  2%|▏         | 1699/87364 [07:53<6:09:43,  3.86it/s]"
     ]
    },
    {
     "output_type": "stream",
     "name": "stdout",
     "text": [
      "01698+BAUM1+BAUM1.s025+f+sur+-1+tur+tr-tr.mp4 is less than 200 ms after trim\n"
     ]
    },
    {
     "output_type": "stream",
     "name": "stderr",
     "text": [
      "  2%|▏         | 1786/87364 [08:17<5:30:36,  4.31it/s]"
     ]
    },
    {
     "output_type": "stream",
     "name": "stdout",
     "text": [
      "01785+BAUM1+BAUM1.s028+f+unc+-1+tur+tr-tr.mp4 is less than 200 ms after trim\n"
     ]
    },
    {
     "output_type": "stream",
     "name": "stderr",
     "text": [
      "  2%|▏         | 1814/87364 [08:24<5:41:58,  4.17it/s]"
     ]
    },
    {
     "output_type": "stream",
     "name": "stdout",
     "text": [
      "01812+BAUM1+BAUM1.s029+f+hap+1+tur+tr-tr.mp4 is less than 200 ms after trim\n",
      "01813+BAUM1+BAUM1.s029+f+hap+1+tur+tr-tr.mp4 is less than 200 ms after trim\n"
     ]
    },
    {
     "output_type": "stream",
     "name": "stderr",
     "text": [
      "  2%|▏         | 1869/87364 [08:39<5:31:19,  4.30it/s]"
     ]
    },
    {
     "output_type": "stream",
     "name": "stdout",
     "text": [
      "01868+BAUM1+BAUM1.s030+f+bot+-1+tur+tr-tr.mp4 is less than 200 ms after trim\n"
     ]
    },
    {
     "output_type": "stream",
     "name": "stderr",
     "text": [
      "  2%|▏         | 1875/87364 [08:41<5:27:23,  4.35it/s]"
     ]
    },
    {
     "output_type": "stream",
     "name": "stdout",
     "text": [
      "01874+BAUM1+BAUM1.s031+f+hap+1+tur+tr-tr.mp4 is less than 200 ms after trim\n"
     ]
    },
    {
     "output_type": "stream",
     "name": "stderr",
     "text": [
      "  2%|▏         | 1903/87364 [08:48<6:15:35,  3.79it/s]"
     ]
    },
    {
     "output_type": "stream",
     "name": "stdout",
     "text": [
      "01902+BAUM1+BAUM1.s031+f+sur+-1+tur+tr-tr.mp4 is less than 200 ms after trim\n"
     ]
    },
    {
     "output_type": "stream",
     "name": "stderr",
     "text": [
      "  9%|▉         | 7730/87364 [40:14<1:57:14, 11.32it/s]"
     ]
    },
    {
     "output_type": "stream",
     "name": "stdout",
     "text": [
      "07727+CREMA-D+CREMA-D.1076+f+sad+-1+eng+en-us.wav is less than 200 ms after trim\n"
     ]
    },
    {
     "output_type": "stream",
     "name": "stderr",
     "text": [
      " 22%|██▏       | 19401/87364 [1:26:28<6:46:49,  2.78it/s]"
     ]
    },
    {
     "output_type": "stream",
     "name": "stdout",
     "text": [
      "19400+enterface_db+enterface_db.6+m+ang+-1+eng+en.avi exceeds 1 minute in duration\n"
     ]
    },
    {
     "output_type": "stream",
     "name": "stderr",
     "text": [
      " 22%|██▏       | 19402/87364 [1:26:29<7:13:53,  2.61it/s]"
     ]
    },
    {
     "output_type": "stream",
     "name": "stdout",
     "text": [
      "19401+enterface_db+enterface_db.6+m+dis+-1+eng+en.avi exceeds 1 minute in duration\n"
     ]
    },
    {
     "output_type": "stream",
     "name": "stderr",
     "text": [
      " 22%|██▏       | 19404/87364 [1:26:30<8:01:08,  2.35it/s]"
     ]
    },
    {
     "output_type": "stream",
     "name": "stdout",
     "text": [
      "19403+enterface_db+enterface_db.6+m+hap+1+eng+en.avi exceeds 1 minute in duration\n"
     ]
    },
    {
     "output_type": "stream",
     "name": "stderr",
     "text": [
      " 22%|██▏       | 19405/87364 [1:26:30<8:24:12,  2.25it/s]"
     ]
    },
    {
     "output_type": "stream",
     "name": "stdout",
     "text": [
      "19404+enterface_db+enterface_db.6+m+sad+-1+eng+en.avi exceeds 1 minute in duration\n"
     ]
    },
    {
     "output_type": "stream",
     "name": "stderr",
     "text": [
      " 22%|██▏       | 19406/87364 [1:26:31<8:45:05,  2.16it/s]"
     ]
    },
    {
     "output_type": "stream",
     "name": "stdout",
     "text": [
      "19405+enterface_db+enterface_db.6+m+sur+-1+eng+en.avi exceeds 1 minute in duration\n"
     ]
    },
    {
     "output_type": "stream",
     "name": "stderr",
     "text": [
      " 70%|███████   | 61234/87364 [2:36:43<3:11:20,  2.28it/s]"
     ]
    },
    {
     "output_type": "stream",
     "name": "stdout",
     "text": [
      "61233+MELD+MELD.Monica+f+ang+-1+eng+en-us.mp4 is less than 200 ms after trim\n"
     ]
    },
    {
     "output_type": "stream",
     "name": "stderr",
     "text": [
      " 70%|███████   | 61351/87364 [2:37:44<3:17:56,  2.19it/s]"
     ]
    },
    {
     "output_type": "stream",
     "name": "stdout",
     "text": [
      "61350+MELD+MELD.Monica+f+neu+0+eng+en-us.mp4 is less than 200 ms after trim\n"
     ]
    },
    {
     "output_type": "stream",
     "name": "stderr",
     "text": [
      " 70%|███████   | 61405/87364 [2:38:12<3:10:24,  2.27it/s]"
     ]
    },
    {
     "output_type": "stream",
     "name": "stdout",
     "text": [
      "61404+MELD+MELD.Joey+m+hap+1+eng+en-us.mp4 is less than 200 ms after trim\n"
     ]
    },
    {
     "output_type": "stream",
     "name": "stderr",
     "text": [
      " 70%|███████   | 61456/87364 [2:38:39<3:26:36,  2.09it/s]"
     ]
    },
    {
     "output_type": "stream",
     "name": "stdout",
     "text": [
      "61455+MELD+MELD.Joey+m+neu+0+eng+en-us.mp4 is less than 200 ms after trim\n"
     ]
    },
    {
     "output_type": "stream",
     "name": "stderr",
     "text": [
      " 70%|███████   | 61479/87364 [2:38:51<2:46:19,  2.59it/s]"
     ]
    },
    {
     "output_type": "stream",
     "name": "stdout",
     "text": [
      "61478+MELD+MELD.Joey+m+hap+1+eng+en-us.mp4 is less than 200 ms after trim\n"
     ]
    },
    {
     "output_type": "stream",
     "name": "stderr",
     "text": [
      " 70%|███████   | 61481/87364 [2:38:52<2:15:41,  3.18it/s]"
     ]
    },
    {
     "output_type": "stream",
     "name": "stdout",
     "text": [
      "61480+MELD+MELD.Joshua+m+hap+1+eng+en-us.mp4 is less than 200 ms after trim\n"
     ]
    },
    {
     "output_type": "stream",
     "name": "stderr",
     "text": [
      " 70%|███████   | 61506/87364 [2:39:04<3:42:48,  1.93it/s]"
     ]
    },
    {
     "output_type": "stream",
     "name": "stdout",
     "text": [
      "61505+MELD+MELD.Chandler+m+neu+0+eng+en-us.mp4 is less than 200 ms after trim\n"
     ]
    },
    {
     "output_type": "stream",
     "name": "stderr",
     "text": [
      " 71%|███████   | 61751/87364 [2:41:11<2:53:09,  2.47it/s]"
     ]
    },
    {
     "output_type": "stream",
     "name": "stdout",
     "text": [
      "61750+MELD+MELD.Joey+m+neu+0+eng+en-us.mp4 is less than 200 ms after trim\n"
     ]
    },
    {
     "output_type": "stream",
     "name": "stderr",
     "text": [
      " 71%|███████   | 61784/87364 [2:41:27<3:14:05,  2.20it/s]"
     ]
    },
    {
     "output_type": "stream",
     "name": "stdout",
     "text": [
      "61783+MELD+MELD.Phoebe+f+neu+0+eng+en-us.mp4 is less than 200 ms after trim\n"
     ]
    },
    {
     "output_type": "stream",
     "name": "stderr",
     "text": [
      " 71%|███████   | 61809/87364 [2:41:42<3:26:50,  2.06it/s]"
     ]
    },
    {
     "output_type": "stream",
     "name": "stdout",
     "text": [
      "61808+MELD+MELD.Mona+f+sur+-1+eng+en-us.mp4 is less than 200 ms after trim\n"
     ]
    },
    {
     "output_type": "stream",
     "name": "stderr",
     "text": [
      " 71%|███████   | 61845/87364 [2:42:03<2:45:50,  2.56it/s]"
     ]
    },
    {
     "output_type": "stream",
     "name": "stdout",
     "text": [
      "61844+MELD+MELD.Rachel+f+neu+0+eng+en-us.mp4 is less than 200 ms after trim\n"
     ]
    },
    {
     "output_type": "stream",
     "name": "stderr",
     "text": [
      " 71%|███████   | 62033/87364 [2:43:35<2:51:53,  2.46it/s]"
     ]
    },
    {
     "output_type": "stream",
     "name": "stdout",
     "text": [
      "62032+MELD+MELD.Joey+m+neu+0+eng+en-us.mp4 is less than 200 ms after trim\n"
     ]
    },
    {
     "output_type": "stream",
     "name": "stderr",
     "text": [
      " 71%|███████   | 62078/87364 [2:43:58<2:24:04,  2.92it/s]"
     ]
    },
    {
     "output_type": "stream",
     "name": "stdout",
     "text": [
      "62077+MELD+MELD.Monica+f+neu+0+eng+en-us.mp4 is less than 200 ms after trim\n"
     ]
    },
    {
     "output_type": "stream",
     "name": "stderr",
     "text": [
      " 71%|███████   | 62233/87364 [2:45:23<2:21:34,  2.96it/s]"
     ]
    },
    {
     "output_type": "stream",
     "name": "stdout",
     "text": [
      "62232+MELD+MELD.Rachel+f+neu+0+eng+en-us.mp4 is less than 200 ms after trim\n"
     ]
    },
    {
     "output_type": "stream",
     "name": "stderr",
     "text": [
      " 71%|███████▏  | 62324/87364 [2:46:20<3:30:05,  1.99it/s]"
     ]
    },
    {
     "output_type": "stream",
     "name": "stdout",
     "text": [
      "62323+MELD+MELD.Joey+m+sur+1+eng+en-us.mp4 is less than 200 ms after trim\n"
     ]
    },
    {
     "output_type": "stream",
     "name": "stderr",
     "text": [
      " 71%|███████▏  | 62335/87364 [2:46:26<3:34:44,  1.94it/s]"
     ]
    },
    {
     "output_type": "stream",
     "name": "stdout",
     "text": [
      "62334+MELD+MELD.Joey+m+neu+0+eng+en-us.mp4 is less than 200 ms after trim\n"
     ]
    },
    {
     "output_type": "stream",
     "name": "stderr",
     "text": [
      " 71%|███████▏  | 62338/87364 [2:46:27<2:52:26,  2.42it/s]"
     ]
    },
    {
     "output_type": "stream",
     "name": "stdout",
     "text": [
      "62337+MELD+MELD.Joey+m+ang+-1+eng+en-us.mp4 is less than 200 ms after trim\n"
     ]
    },
    {
     "output_type": "stream",
     "name": "stderr",
     "text": [
      " 71%|███████▏  | 62348/87364 [2:46:31<2:53:36,  2.40it/s]"
     ]
    },
    {
     "output_type": "stream",
     "name": "stdout",
     "text": [
      "62347+MELD+MELD.Mr. Tribbiani+m+neu+0+eng+en-us.mp4 is less than 200 ms after trim\n"
     ]
    },
    {
     "output_type": "stream",
     "name": "stderr",
     "text": [
      " 71%|███████▏  | 62388/87364 [2:46:52<2:48:32,  2.47it/s]"
     ]
    },
    {
     "output_type": "stream",
     "name": "stdout",
     "text": [
      "62387+MELD+MELD.Monica+f+ang+-1+eng+en-us.mp4 is less than 200 ms after trim\n"
     ]
    },
    {
     "output_type": "stream",
     "name": "stderr",
     "text": [
      " 71%|███████▏  | 62402/87364 [2:46:59<2:26:11,  2.85it/s]"
     ]
    },
    {
     "output_type": "stream",
     "name": "stdout",
     "text": [
      "62401+MELD+MELD.Rachel+f+neu+0+eng+en-us.mp4 is less than 200 ms after trim\n"
     ]
    },
    {
     "output_type": "stream",
     "name": "stderr",
     "text": [
      " 71%|███████▏  | 62416/87364 [2:47:05<3:04:49,  2.25it/s]"
     ]
    },
    {
     "output_type": "stream",
     "name": "stdout",
     "text": [
      "62415+MELD+MELD.Phoebe+f+neu+0+eng+en-us.mp4 is less than 200 ms after trim\n"
     ]
    },
    {
     "output_type": "stream",
     "name": "stderr",
     "text": [
      " 71%|███████▏  | 62438/87364 [2:47:17<3:37:51,  1.91it/s]"
     ]
    },
    {
     "output_type": "stream",
     "name": "stdout",
     "text": [
      "62437+MELD+MELD.Chandler+m+ang+-1+eng+en-us.mp4 is less than 200 ms after trim\n"
     ]
    },
    {
     "output_type": "stream",
     "name": "stderr",
     "text": [
      " 72%|███████▏  | 62467/87364 [2:47:34<3:02:24,  2.27it/s]"
     ]
    },
    {
     "output_type": "stream",
     "name": "stdout",
     "text": [
      "62466+MELD+MELD.Kristen+f+hap+1+eng+en-us.mp4 is less than 200 ms after trim\n"
     ]
    },
    {
     "output_type": "stream",
     "name": "stderr",
     "text": [
      " 72%|███████▏  | 62504/87364 [2:47:56<3:41:36,  1.87it/s]"
     ]
    },
    {
     "output_type": "stream",
     "name": "stdout",
     "text": [
      "62503+MELD+MELD.Janice+f+sur+1+eng+en-us.mp4 is less than 200 ms after trim\n"
     ]
    },
    {
     "output_type": "stream",
     "name": "stderr",
     "text": [
      " 72%|███████▏  | 62528/87364 [2:48:08<3:35:27,  1.92it/s]"
     ]
    },
    {
     "output_type": "stream",
     "name": "stdout",
     "text": [
      "62527+MELD+MELD.Ross+m+sur+1+eng+en-us.mp4 is less than 200 ms after trim\n"
     ]
    },
    {
     "output_type": "stream",
     "name": "stderr",
     "text": [
      " 72%|███████▏  | 62734/87364 [2:49:56<2:39:45,  2.57it/s]"
     ]
    },
    {
     "output_type": "stream",
     "name": "stdout",
     "text": [
      "62733+MELD+MELD.Joey+m+hap+1+eng+en-us.mp4 is less than 200 ms after trim\n"
     ]
    },
    {
     "output_type": "stream",
     "name": "stderr",
     "text": [
      " 72%|███████▏  | 62758/87364 [2:50:09<4:29:32,  1.52it/s]"
     ]
    },
    {
     "output_type": "stream",
     "name": "stdout",
     "text": [
      "62757+MELD+MELD.Ross+m+fea+-1+eng+en-us.mp4 is less than 200 ms after trim\n"
     ]
    },
    {
     "output_type": "stream",
     "name": "stderr",
     "text": [
      " 72%|███████▏  | 62850/87364 [2:50:59<2:48:56,  2.42it/s]"
     ]
    },
    {
     "output_type": "stream",
     "name": "stdout",
     "text": [
      "62849+MELD+MELD.Paul+m+neu+0+eng+en-us.mp4 is less than 200 ms after trim\n"
     ]
    },
    {
     "output_type": "stream",
     "name": "stderr",
     "text": [
      " 72%|███████▏  | 62882/87364 [2:51:15<2:16:15,  2.99it/s]"
     ]
    },
    {
     "output_type": "stream",
     "name": "stdout",
     "text": [
      "62881+MELD+MELD.Joey+m+neu+0+eng+en-us.mp4 is less than 200 ms after trim\n"
     ]
    },
    {
     "output_type": "stream",
     "name": "stderr",
     "text": [
      " 72%|███████▏  | 63067/87364 [2:52:54<3:31:39,  1.91it/s]"
     ]
    },
    {
     "output_type": "stream",
     "name": "stdout",
     "text": [
      "63066+MELD+MELD.Phoebe+f+neu+0+eng+en-us.mp4 is less than 200 ms after trim\n"
     ]
    },
    {
     "output_type": "stream",
     "name": "stderr",
     "text": [
      " 72%|███████▏  | 63159/87364 [2:53:42<2:44:05,  2.46it/s]"
     ]
    },
    {
     "output_type": "stream",
     "name": "stdout",
     "text": [
      "63158+MELD+MELD.Rachel+f+neu+0+eng+en-us.mp4 is less than 200 ms after trim\n"
     ]
    },
    {
     "output_type": "stream",
     "name": "stderr",
     "text": [
      " 72%|███████▏  | 63313/87364 [2:54:56<2:09:46,  3.09it/s]"
     ]
    },
    {
     "output_type": "stream",
     "name": "stdout",
     "text": [
      "63312+MELD+MELD.Ross+m+neu+0+eng+en-us.mp4 is less than 200 ms after trim\n"
     ]
    },
    {
     "output_type": "stream",
     "name": "stderr",
     "text": [
      " 73%|███████▎  | 63352/87364 [2:55:16<3:02:50,  2.19it/s]"
     ]
    },
    {
     "output_type": "stream",
     "name": "stdout",
     "text": [
      "63351+MELD+MELD.Joey+m+neu+0+eng+en-us.mp4 is less than 200 ms after trim\n"
     ]
    },
    {
     "output_type": "stream",
     "name": "stderr",
     "text": [
      " 73%|███████▎  | 63584/87364 [2:57:31<2:37:05,  2.52it/s]"
     ]
    },
    {
     "output_type": "stream",
     "name": "stdout",
     "text": [
      "63583+MELD+MELD.Issac+m+neu+0+eng+en-us.mp4 is less than 200 ms after trim\n"
     ]
    },
    {
     "output_type": "stream",
     "name": "stderr",
     "text": [
      " 73%|███████▎  | 63860/87364 [3:00:10<4:05:44,  1.59it/s]"
     ]
    },
    {
     "output_type": "stream",
     "name": "stdout",
     "text": [
      "63859+MELD+MELD.Joey+m+neu+0+eng+en-us.mp4 is less than 200 ms after trim\n"
     ]
    },
    {
     "output_type": "stream",
     "name": "stderr",
     "text": [
      " 73%|███████▎  | 63862/87364 [3:00:10<3:01:31,  2.16it/s]"
     ]
    },
    {
     "output_type": "stream",
     "name": "stdout",
     "text": [
      "63861+MELD+MELD.Chandler+m+hap+1+eng+en-us.mp4 is less than 200 ms after trim\n"
     ]
    },
    {
     "output_type": "stream",
     "name": "stderr",
     "text": [
      " 73%|███████▎  | 63929/87364 [3:00:54<3:30:00,  1.86it/s]"
     ]
    },
    {
     "output_type": "stream",
     "name": "stdout",
     "text": [
      "63928+MELD+MELD.Ross+m+hap+1+eng+en-us.mp4 is less than 200 ms after trim\n"
     ]
    },
    {
     "output_type": "stream",
     "name": "stderr",
     "text": [
      " 73%|███████▎  | 64004/87364 [3:01:37<2:31:50,  2.56it/s]"
     ]
    },
    {
     "output_type": "stream",
     "name": "stdout",
     "text": [
      "64003+MELD+MELD.Phoebe+f+hap+1+eng+en-us.mp4 is less than 200 ms after trim\n"
     ]
    },
    {
     "output_type": "stream",
     "name": "stderr",
     "text": [
      " 73%|███████▎  | 64168/87364 [3:03:07<3:13:39,  2.00it/s]"
     ]
    },
    {
     "output_type": "stream",
     "name": "stdout",
     "text": [
      "64167+MELD+MELD.Rachel+f+neu+0+eng+en-us.mp4 is less than 200 ms after trim\n"
     ]
    },
    {
     "output_type": "stream",
     "name": "stderr",
     "text": [
      " 74%|███████▎  | 64270/87364 [3:04:05<3:41:36,  1.74it/s]"
     ]
    },
    {
     "output_type": "stream",
     "name": "stdout",
     "text": [
      "64269+MELD+MELD.Ross and Rachel+u+sur+1+eng+en-us.mp4 is less than 200 ms after trim\n"
     ]
    },
    {
     "output_type": "stream",
     "name": "stderr",
     "text": [
      " 74%|███████▎  | 64372/87364 [3:05:03<3:00:15,  2.13it/s]"
     ]
    },
    {
     "output_type": "stream",
     "name": "stdout",
     "text": [
      "64371+MELD+MELD.Ross+m+hap+1+eng+en-us.mp4 is less than 200 ms after trim\n"
     ]
    },
    {
     "output_type": "stream",
     "name": "stderr",
     "text": [
      " 74%|███████▎  | 64395/87364 [3:05:13<2:20:35,  2.72it/s]"
     ]
    },
    {
     "output_type": "stream",
     "name": "stdout",
     "text": [
      "64394+MELD+MELD.Emily+f+ang+-1+eng+en-us.mp4 is less than 200 ms after trim\n"
     ]
    },
    {
     "output_type": "stream",
     "name": "stderr",
     "text": [
      " 74%|███████▎  | 64419/87364 [3:05:27<3:21:11,  1.90it/s]"
     ]
    },
    {
     "output_type": "stream",
     "name": "stdout",
     "text": [
      "64418+MELD+MELD.Monica+f+neu+0+eng+en-us.mp4 is less than 200 ms after trim\n"
     ]
    },
    {
     "output_type": "stream",
     "name": "stderr",
     "text": [
      " 74%|███████▍  | 64580/87364 [3:06:50<2:53:34,  2.19it/s]"
     ]
    },
    {
     "output_type": "stream",
     "name": "stdout",
     "text": [
      "64579+MELD+MELD.Ross+m+neu+0+eng+en-us.mp4 is less than 200 ms after trim\n"
     ]
    },
    {
     "output_type": "stream",
     "name": "stderr",
     "text": [
      " 74%|███████▍  | 64686/87364 [3:07:45<2:09:38,  2.92it/s]"
     ]
    },
    {
     "output_type": "stream",
     "name": "stdout",
     "text": [
      "64685+MELD+MELD.Rachel+f+sur+-1+eng+en-us.mp4 is less than 200 ms after trim\n"
     ]
    },
    {
     "output_type": "stream",
     "name": "stderr",
     "text": [
      " 74%|███████▍  | 64817/87364 [3:08:53<2:53:23,  2.17it/s]"
     ]
    },
    {
     "output_type": "stream",
     "name": "stdout",
     "text": [
      "64816+MELD+MELD.Phoebe+f+sur+-1+eng+en-us.mp4 is less than 200 ms after trim\n"
     ]
    },
    {
     "output_type": "stream",
     "name": "stderr",
     "text": [
      " 74%|███████▍  | 64886/87364 [3:09:32<3:25:48,  1.82it/s]"
     ]
    },
    {
     "output_type": "stream",
     "name": "stdout",
     "text": [
      "64885+MELD+MELD.Monica+f+neu+0+eng+en-us.mp4 is less than 200 ms after trim\n"
     ]
    },
    {
     "output_type": "stream",
     "name": "stderr",
     "text": [
      " 74%|███████▍  | 64924/87364 [3:09:50<1:57:57,  3.17it/s]"
     ]
    },
    {
     "output_type": "stream",
     "name": "stdout",
     "text": [
      "64923+MELD+MELD.Phoebe+f+neu+0+eng+en-us.mp4 is less than 200 ms after trim\n"
     ]
    },
    {
     "output_type": "stream",
     "name": "stderr",
     "text": [
      " 74%|███████▍  | 64998/87364 [3:10:26<2:01:54,  3.06it/s]"
     ]
    },
    {
     "output_type": "stream",
     "name": "stdout",
     "text": [
      "64997+MELD+MELD.Phoebe+f+neu+0+eng+en-us.mp4 is less than 200 ms after trim\n"
     ]
    },
    {
     "output_type": "stream",
     "name": "stderr",
     "text": [
      " 74%|███████▍  | 65078/87364 [3:11:10<2:03:16,  3.01it/s]"
     ]
    },
    {
     "output_type": "stream",
     "name": "stdout",
     "text": [
      "65077+MELD+MELD.Rachel+f+ang+-1+eng+en-us.mp4 is less than 200 ms after trim\n"
     ]
    },
    {
     "output_type": "stream",
     "name": "stderr",
     "text": [
      " 75%|███████▍  | 65097/87364 [3:11:21<3:05:38,  2.00it/s]"
     ]
    },
    {
     "output_type": "stream",
     "name": "stdout",
     "text": [
      "65096+MELD+MELD.Phoebe+f+neu+0+eng+en-us.mp4 is less than 200 ms after trim\n"
     ]
    },
    {
     "output_type": "stream",
     "name": "stderr",
     "text": [
      " 75%|███████▍  | 65102/87364 [3:11:25<3:57:34,  1.56it/s]"
     ]
    },
    {
     "output_type": "stream",
     "name": "stdout",
     "text": [
      "65101+MELD+MELD.Phoebe+f+sad+-1+eng+en-us.mp4 is less than 200 ms after trim\n"
     ]
    },
    {
     "output_type": "stream",
     "name": "stderr",
     "text": [
      " 75%|███████▍  | 65117/87364 [3:11:33<3:20:47,  1.85it/s]"
     ]
    },
    {
     "output_type": "stream",
     "name": "stdout",
     "text": [
      "65116+MELD+MELD.Ross+m+neu+0+eng+en-us.mp4 is less than 200 ms after trim\n"
     ]
    },
    {
     "output_type": "stream",
     "name": "stderr",
     "text": [
      " 75%|███████▍  | 65192/87364 [3:12:14<2:57:21,  2.08it/s]"
     ]
    },
    {
     "output_type": "stream",
     "name": "stdout",
     "text": [
      "65191+MELD+MELD.Joey+m+sur+-1+eng+en-us.mp4 is less than 200 ms after trim\n"
     ]
    },
    {
     "output_type": "stream",
     "name": "stderr",
     "text": [
      " 75%|███████▌  | 65538/87364 [3:15:16<1:59:02,  3.06it/s]"
     ]
    },
    {
     "output_type": "stream",
     "name": "stdout",
     "text": [
      "65537+MELD+MELD.Joey+m+hap+1+eng+en-us.mp4 is less than 200 ms after trim\n"
     ]
    },
    {
     "output_type": "stream",
     "name": "stderr",
     "text": [
      " 75%|███████▌  | 65772/87364 [3:17:20<2:20:41,  2.56it/s]"
     ]
    },
    {
     "output_type": "stream",
     "name": "stdout",
     "text": [
      "65771+MELD+MELD.Joey+m+neu+0+eng+en-us.mp4 is less than 200 ms after trim\n"
     ]
    },
    {
     "output_type": "stream",
     "name": "stderr",
     "text": [
      " 75%|███████▌  | 65921/87364 [3:18:39<2:04:34,  2.87it/s]"
     ]
    },
    {
     "output_type": "stream",
     "name": "stdout",
     "text": [
      "65920+MELD+MELD.Ross+m+ang+-1+eng+en-us.mp4 is less than 200 ms after trim\n"
     ]
    },
    {
     "output_type": "stream",
     "name": "stderr",
     "text": [
      " 76%|███████▌  | 65988/87364 [3:19:11<1:49:26,  3.26it/s]"
     ]
    },
    {
     "output_type": "stream",
     "name": "stdout",
     "text": [
      "65986+MELD+MELD.Phoebe+f+ang+-1+eng+en-us.mp4 is less than 200 ms after trim\n",
      "65987+MELD+MELD.Rachel+f+hap+1+eng+en-us.mp4 is less than 200 ms after trim\n"
     ]
    },
    {
     "output_type": "stream",
     "name": "stderr",
     "text": [
      " 76%|███████▌  | 65989/87364 [3:19:11<1:34:58,  3.75it/s]"
     ]
    },
    {
     "output_type": "stream",
     "name": "stdout",
     "text": [
      "65988+MELD+MELD.Joey+m+fea+-1+eng+en-us.mp4 is less than 200 ms after trim\n"
     ]
    },
    {
     "output_type": "stream",
     "name": "stderr",
     "text": [
      " 76%|███████▌  | 66069/87364 [3:19:52<2:11:47,  2.69it/s]"
     ]
    },
    {
     "output_type": "stream",
     "name": "stdout",
     "text": [
      "66068+MELD+MELD.Danny+m+neu+0+eng+en-us.mp4 is less than 200 ms after trim\n"
     ]
    },
    {
     "output_type": "stream",
     "name": "stderr",
     "text": [
      " 76%|███████▌  | 66125/87364 [3:20:23<3:03:54,  1.92it/s]"
     ]
    },
    {
     "output_type": "stream",
     "name": "stdout",
     "text": [
      "66124+MELD+MELD.Phoebe+f+neu+0+eng+en-us.mp4 is less than 200 ms after trim\n"
     ]
    },
    {
     "output_type": "stream",
     "name": "stderr",
     "text": [
      " 76%|███████▌  | 66177/87364 [3:20:48<2:54:19,  2.03it/s]"
     ]
    },
    {
     "output_type": "stream",
     "name": "stdout",
     "text": [
      "66176+MELD+MELD.Phoebe+f+neu+0+eng+en-us.mp4 is less than 200 ms after trim\n"
     ]
    },
    {
     "output_type": "stream",
     "name": "stderr",
     "text": [
      " 76%|███████▌  | 66244/87364 [3:21:22<2:09:58,  2.71it/s]"
     ]
    },
    {
     "output_type": "stream",
     "name": "stdout",
     "text": [
      "66243+MELD+MELD.Rachel+f+fea+-1+eng+en-us.mp4 is less than 200 ms after trim\n"
     ]
    },
    {
     "output_type": "stream",
     "name": "stderr",
     "text": [
      " 76%|███████▌  | 66342/87364 [3:22:19<2:54:14,  2.01it/s]"
     ]
    },
    {
     "output_type": "stream",
     "name": "stdout",
     "text": [
      "66341+MELD+MELD.Chandler+m+neu+0+eng+en-us.mp4 is less than 200 ms after trim\n"
     ]
    },
    {
     "output_type": "stream",
     "name": "stderr",
     "text": [
      " 76%|███████▌  | 66382/87364 [3:22:39<2:13:58,  2.61it/s]"
     ]
    },
    {
     "output_type": "stream",
     "name": "stdout",
     "text": [
      "66381+MELD+MELD.Joey+m+neu+0+eng+en-us.mp4 is less than 200 ms after trim\n"
     ]
    },
    {
     "output_type": "stream",
     "name": "stderr",
     "text": [
      " 76%|███████▌  | 66490/87364 [3:23:37<2:42:33,  2.14it/s]"
     ]
    },
    {
     "output_type": "stream",
     "name": "stdout",
     "text": [
      "66489+MELD+MELD.Phoebe+f+neu+0+eng+en-us.mp4 is less than 200 ms after trim\n"
     ]
    },
    {
     "output_type": "stream",
     "name": "stderr",
     "text": [
      " 76%|███████▌  | 66534/87364 [3:23:58<2:20:03,  2.48it/s]"
     ]
    },
    {
     "output_type": "stream",
     "name": "stdout",
     "text": [
      "66533+MELD+MELD.Joey+m+hap+1+eng+en-us.mp4 is less than 200 ms after trim\n"
     ]
    },
    {
     "output_type": "stream",
     "name": "stderr",
     "text": [
      " 76%|███████▌  | 66579/87364 [3:24:21<2:19:53,  2.48it/s]"
     ]
    },
    {
     "output_type": "stream",
     "name": "stdout",
     "text": [
      "66578+MELD+MELD.Phoebe+f+ang+-1+eng+en-us.mp4 is less than 200 ms after trim\n"
     ]
    },
    {
     "output_type": "stream",
     "name": "stderr",
     "text": [
      " 76%|███████▋  | 66667/87364 [3:25:07<1:58:00,  2.92it/s]"
     ]
    },
    {
     "output_type": "stream",
     "name": "stdout",
     "text": [
      "66666+MELD+MELD.Ross+m+neu+0+eng+en-us.mp4 is less than 200 ms after trim\n"
     ]
    },
    {
     "output_type": "stream",
     "name": "stderr",
     "text": [
      " 76%|███████▋  | 66773/87364 [3:26:00<2:20:33,  2.44it/s]"
     ]
    },
    {
     "output_type": "stream",
     "name": "stdout",
     "text": [
      "66772+MELD+MELD.Chandler+m+neu+0+eng+en-us.mp4 is less than 200 ms after trim\n"
     ]
    },
    {
     "output_type": "stream",
     "name": "stderr",
     "text": [
      " 76%|███████▋  | 66784/87364 [3:26:05<2:20:40,  2.44it/s]"
     ]
    },
    {
     "output_type": "stream",
     "name": "stdout",
     "text": [
      "66783+MELD+MELD.Rachel+f+sur+-1+eng+en-us.mp4 is less than 200 ms after trim\n"
     ]
    },
    {
     "output_type": "stream",
     "name": "stderr",
     "text": [
      " 77%|███████▋  | 66919/87364 [3:27:24<2:59:17,  1.90it/s]"
     ]
    },
    {
     "output_type": "stream",
     "name": "stdout",
     "text": [
      "66918+MELD+MELD.Phoebe Sr.+f+neu+0+eng+en-us.mp4 is less than 200 ms after trim\n"
     ]
    },
    {
     "output_type": "stream",
     "name": "stderr",
     "text": [
      " 77%|███████▋  | 66945/87364 [3:27:38<2:49:34,  2.01it/s]"
     ]
    },
    {
     "output_type": "stream",
     "name": "stdout",
     "text": [
      "66944+MELD+MELD.Phoebe+f+neu+0+eng+en-us.mp4 is less than 200 ms after trim\n"
     ]
    },
    {
     "output_type": "stream",
     "name": "stderr",
     "text": [
      " 77%|███████▋  | 67016/87364 [3:28:13<2:20:27,  2.41it/s]"
     ]
    },
    {
     "output_type": "stream",
     "name": "stdout",
     "text": [
      "67015+MELD+MELD.Monica+f+ang+-1+eng+en-us.mp4 is less than 200 ms after trim\n"
     ]
    },
    {
     "output_type": "stream",
     "name": "stderr",
     "text": [
      " 77%|███████▋  | 67034/87364 [3:28:24<2:33:04,  2.21it/s]"
     ]
    },
    {
     "output_type": "stream",
     "name": "stdout",
     "text": [
      "67033+MELD+MELD.Ross+m+sad+-1+eng+en-us.mp4 is less than 200 ms after trim\n"
     ]
    },
    {
     "output_type": "stream",
     "name": "stderr",
     "text": [
      " 77%|███████▋  | 67049/87364 [3:28:31<2:27:12,  2.30it/s]"
     ]
    },
    {
     "output_type": "stream",
     "name": "stdout",
     "text": [
      "67048+MELD+MELD.Monica+f+ang+-1+eng+en-us.mp4 is less than 200 ms after trim\n"
     ]
    },
    {
     "output_type": "stream",
     "name": "stderr",
     "text": [
      " 77%|███████▋  | 67130/87364 [3:29:14<2:13:33,  2.53it/s]"
     ]
    },
    {
     "output_type": "stream",
     "name": "stdout",
     "text": [
      "67129+MELD+MELD.Ross+m+neu+0+eng+en-us.mp4 is less than 200 ms after trim\n"
     ]
    },
    {
     "output_type": "stream",
     "name": "stderr",
     "text": [
      " 77%|███████▋  | 67145/87364 [3:29:21<2:28:17,  2.27it/s]"
     ]
    },
    {
     "output_type": "stream",
     "name": "stdout",
     "text": [
      "67144+MELD+MELD.Monica+f+neu+0+eng+en-us.mp4 is less than 200 ms after trim\n"
     ]
    },
    {
     "output_type": "stream",
     "name": "stderr",
     "text": [
      " 77%|███████▋  | 67261/87364 [3:30:26<2:20:36,  2.38it/s]"
     ]
    },
    {
     "output_type": "stream",
     "name": "stdout",
     "text": [
      "67260+MELD+MELD.Phoebe+f+neu+0+eng+en-us.mp4 is less than 200 ms after trim\n"
     ]
    },
    {
     "output_type": "stream",
     "name": "stderr",
     "text": [
      " 77%|███████▋  | 67355/87364 [3:31:23<3:29:54,  1.59it/s]"
     ]
    },
    {
     "output_type": "stream",
     "name": "stdout",
     "text": [
      "67354+MELD+MELD.Phoebe+f+sur+1+eng+en-us.mp4 is less than 200 ms after trim\n"
     ]
    },
    {
     "output_type": "stream",
     "name": "stderr",
     "text": [
      " 77%|███████▋  | 67550/87364 [3:33:04<2:45:49,  1.99it/s]"
     ]
    },
    {
     "output_type": "stream",
     "name": "stdout",
     "text": [
      "67549+MELD+MELD.Chandler+m+hap+1+eng+en-us.mp4 is less than 200 ms after trim\n"
     ]
    },
    {
     "output_type": "stream",
     "name": "stderr",
     "text": [
      " 78%|███████▊  | 67776/87364 [3:35:14<2:55:49,  1.86it/s]"
     ]
    },
    {
     "output_type": "stream",
     "name": "stdout",
     "text": [
      "67775+MELD+MELD.Ross+m+hap+1+eng+en-us.mp4 is less than 200 ms after trim\n"
     ]
    },
    {
     "output_type": "stream",
     "name": "stderr",
     "text": [
      " 78%|███████▊  | 67781/87364 [3:35:17<2:44:12,  1.99it/s]"
     ]
    },
    {
     "output_type": "stream",
     "name": "stdout",
     "text": [
      "67780+MELD+MELD.Phoebe+f+hap+1+eng+en-us.mp4 is less than 200 ms after trim\n"
     ]
    },
    {
     "output_type": "stream",
     "name": "stderr",
     "text": [
      " 78%|███████▊  | 68006/87364 [3:37:54<3:01:29,  1.78it/s]"
     ]
    },
    {
     "output_type": "stream",
     "name": "stdout",
     "text": [
      "68005+MELD+MELD.Chandler+m+sur+-1+eng+en-us.mp4 is less than 200 ms after trim\n"
     ]
    },
    {
     "output_type": "stream",
     "name": "stderr",
     "text": [
      " 78%|███████▊  | 68014/87364 [3:38:00<3:10:26,  1.69it/s]"
     ]
    },
    {
     "output_type": "stream",
     "name": "stdout",
     "text": [
      "68013+MELD+MELD.Monica+f+ang+-1+eng+en-us.mp4 is less than 200 ms after trim\n"
     ]
    },
    {
     "output_type": "stream",
     "name": "stderr",
     "text": [
      " 78%|███████▊  | 68029/87364 [3:38:12<3:58:08,  1.35it/s]"
     ]
    },
    {
     "output_type": "stream",
     "name": "stdout",
     "text": [
      "68028+MELD+MELD.Ross+m+ang+-1+eng+en-us.mp4 is less than 200 ms after trim\n"
     ]
    },
    {
     "output_type": "stream",
     "name": "stderr",
     "text": [
      " 78%|███████▊  | 68097/87364 [3:39:01<2:46:54,  1.92it/s]"
     ]
    },
    {
     "output_type": "stream",
     "name": "stdout",
     "text": [
      "68096+MELD+MELD.Phoebe+f+neu+0+eng+en-us.mp4 is less than 200 ms after trim\n"
     ]
    },
    {
     "output_type": "stream",
     "name": "stderr",
     "text": [
      " 78%|███████▊  | 68221/87364 [3:40:22<2:51:18,  1.86it/s]"
     ]
    },
    {
     "output_type": "stream",
     "name": "stdout",
     "text": [
      "68220+MELD+MELD.Phoebe+f+ang+-1+eng+en-us.mp4 is less than 200 ms after trim\n"
     ]
    },
    {
     "output_type": "stream",
     "name": "stderr",
     "text": [
      " 78%|███████▊  | 68255/87364 [3:40:40<2:06:48,  2.51it/s]"
     ]
    },
    {
     "output_type": "stream",
     "name": "stdout",
     "text": [
      "68254+MELD+MELD.Ross+m+neu+0+eng+en-us.mp4 is less than 200 ms after trim\n"
     ]
    },
    {
     "output_type": "stream",
     "name": "stderr",
     "text": [
      " 78%|███████▊  | 68258/87364 [3:40:41<1:49:53,  2.90it/s]"
     ]
    },
    {
     "output_type": "stream",
     "name": "stdout",
     "text": [
      "68257+MELD+MELD.Ross+m+hap+1+eng+en-us.mp4 is less than 200 ms after trim\n"
     ]
    },
    {
     "output_type": "stream",
     "name": "stderr",
     "text": [
      " 78%|███████▊  | 68271/87364 [3:40:47<2:18:01,  2.31it/s]"
     ]
    },
    {
     "output_type": "stream",
     "name": "stdout",
     "text": [
      "68270+MELD+MELD.Joanna+f+neu+0+eng+en-us.mp4 is less than 200 ms after trim\n"
     ]
    },
    {
     "output_type": "stream",
     "name": "stderr",
     "text": [
      " 78%|███████▊  | 68325/87364 [3:41:14<5:10:20,  1.02it/s]"
     ]
    },
    {
     "output_type": "stream",
     "name": "stdout",
     "text": [
      "68324+MELD+MELD.Phoebe+f+dis+-1+eng+en-us.mp4 exceeds 1 minute in duration\n"
     ]
    },
    {
     "output_type": "stream",
     "name": "stderr",
     "text": [
      " 78%|███████▊  | 68412/87364 [3:42:01<1:51:57,  2.82it/s]"
     ]
    },
    {
     "output_type": "stream",
     "name": "stdout",
     "text": [
      "68410+MELD+MELD.Chandler+m+neu+0+eng+en-us.mp4 is less than 200 ms after trim\n",
      "68411+MELD+MELD.Dr. Green+m+ang+-1+eng+en-us.mp4 is less than 200 ms after trim\n"
     ]
    },
    {
     "output_type": "stream",
     "name": "stderr",
     "text": [
      " 78%|███████▊  | 68422/87364 [3:42:06<2:06:34,  2.49it/s]"
     ]
    },
    {
     "output_type": "stream",
     "name": "stdout",
     "text": [
      "68421+MELD+MELD.Joey+m+neu+0+eng+en-us.mp4 is less than 200 ms after trim\n"
     ]
    },
    {
     "output_type": "stream",
     "name": "stderr",
     "text": [
      " 78%|███████▊  | 68534/87364 [3:43:03<2:29:41,  2.10it/s]"
     ]
    },
    {
     "output_type": "stream",
     "name": "stdout",
     "text": [
      "68533+MELD+MELD.Mr. Treeger+m+neu+0+eng+en-us.mp4 is less than 200 ms after trim\n"
     ]
    },
    {
     "output_type": "stream",
     "name": "stderr",
     "text": [
      " 78%|███████▊  | 68539/87364 [3:43:05<2:14:41,  2.33it/s]"
     ]
    },
    {
     "output_type": "stream",
     "name": "stdout",
     "text": [
      "68538+MELD+MELD.Phoebe+f+sur+1+eng+en-us.mp4 is less than 200 ms after trim\n"
     ]
    },
    {
     "output_type": "stream",
     "name": "stderr",
     "text": [
      " 79%|███████▉  | 68839/87364 [3:45:35<1:59:18,  2.59it/s]"
     ]
    },
    {
     "output_type": "stream",
     "name": "stdout",
     "text": [
      "68838+MELD+MELD.Ross+m+hap+1+eng+en-us.mp4 is less than 200 ms after trim\n"
     ]
    },
    {
     "output_type": "stream",
     "name": "stderr",
     "text": [
      " 79%|███████▉  | 69046/87364 [3:47:18<2:36:53,  1.95it/s]"
     ]
    },
    {
     "output_type": "stream",
     "name": "stdout",
     "text": [
      "69045+MELD+MELD.Rachel+f+sad+-1+eng+en-us.mp4 is less than 200 ms after trim\n"
     ]
    },
    {
     "output_type": "stream",
     "name": "stderr",
     "text": [
      " 79%|███████▉  | 69066/87364 [3:47:29<2:03:52,  2.46it/s]"
     ]
    },
    {
     "output_type": "stream",
     "name": "stdout",
     "text": [
      "69065+MELD+MELD.Joey+m+sad+-1+eng+en-us.mp4 is less than 200 ms after trim\n"
     ]
    },
    {
     "output_type": "stream",
     "name": "stderr",
     "text": [
      " 79%|███████▉  | 69108/87364 [3:47:52<2:48:49,  1.80it/s]"
     ]
    },
    {
     "output_type": "stream",
     "name": "stdout",
     "text": [
      "69107+MELD+MELD.Monica+f+sad+-1+eng+en-us.mp4 is less than 200 ms after trim\n"
     ]
    },
    {
     "output_type": "stream",
     "name": "stderr",
     "text": [
      " 79%|███████▉  | 69168/87364 [3:48:21<1:58:19,  2.56it/s]"
     ]
    },
    {
     "output_type": "stream",
     "name": "stdout",
     "text": [
      "69167+MELD+MELD.Joey+m+neu+0+eng+en-us.mp4 is less than 200 ms after trim\n"
     ]
    },
    {
     "output_type": "stream",
     "name": "stderr",
     "text": [
      " 79%|███████▉  | 69331/87364 [3:49:49<1:52:34,  2.67it/s]"
     ]
    },
    {
     "output_type": "stream",
     "name": "stdout",
     "text": [
      "69330+MELD+MELD.Phoebe+f+hap+1+eng+en-us.mp4 is less than 200 ms after trim\n"
     ]
    },
    {
     "output_type": "stream",
     "name": "stderr",
     "text": [
      " 79%|███████▉  | 69352/87364 [3:49:59<2:13:29,  2.25it/s]"
     ]
    },
    {
     "output_type": "stream",
     "name": "stdout",
     "text": [
      "69351+MELD+MELD.Phoebe+f+neu+0+eng+en-us.mp4 is less than 200 ms after trim\n"
     ]
    },
    {
     "output_type": "stream",
     "name": "stderr",
     "text": [
      " 79%|███████▉  | 69363/87364 [3:50:05<2:33:50,  1.95it/s]"
     ]
    },
    {
     "output_type": "stream",
     "name": "stdout",
     "text": [
      "69362+MELD+MELD.Ben+m+hap+1+eng+en-us.mp4 is less than 200 ms after trim\n"
     ]
    },
    {
     "output_type": "stream",
     "name": "stderr",
     "text": [
      " 79%|███████▉  | 69409/87364 [3:50:26<1:44:35,  2.86it/s]"
     ]
    },
    {
     "output_type": "stream",
     "name": "stdout",
     "text": [
      "69408+MELD+MELD.Ross+m+ang+-1+eng+en-us.mp4 is less than 200 ms after trim\n"
     ]
    },
    {
     "output_type": "stream",
     "name": "stderr",
     "text": [
      " 80%|███████▉  | 69489/87364 [3:51:07<1:59:30,  2.49it/s]"
     ]
    },
    {
     "output_type": "stream",
     "name": "stdout",
     "text": [
      "69488+MELD+MELD.All6.19+u+hap+1+eng+en-us.mp4 is less than 200 ms after trim\n"
     ]
    },
    {
     "output_type": "stream",
     "name": "stderr",
     "text": [
      " 80%|███████▉  | 69526/87364 [3:51:24<1:42:56,  2.89it/s]"
     ]
    },
    {
     "output_type": "stream",
     "name": "stdout",
     "text": [
      "69525+MELD+MELD.Joey+m+sur+-1+eng+en-us.mp4 is less than 200 ms after trim\n"
     ]
    },
    {
     "output_type": "stream",
     "name": "stderr",
     "text": [
      " 80%|███████▉  | 69817/87364 [3:53:51<2:08:19,  2.28it/s]"
     ]
    },
    {
     "output_type": "stream",
     "name": "stdout",
     "text": [
      "69816+MELD+MELD.Chandler+m+hap+1+eng+en-us.mp4 is less than 200 ms after trim\n"
     ]
    },
    {
     "output_type": "stream",
     "name": "stderr",
     "text": [
      " 80%|███████▉  | 69841/87364 [3:54:04<2:12:14,  2.21it/s]"
     ]
    },
    {
     "output_type": "stream",
     "name": "stdout",
     "text": [
      "69840+MELD+MELD.Ross+m+neu+0+eng+en-us.mp4 is less than 200 ms after trim\n"
     ]
    },
    {
     "output_type": "stream",
     "name": "stderr",
     "text": [
      " 80%|███████▉  | 69847/87364 [3:54:11<6:54:12,  1.42s/it]"
     ]
    },
    {
     "output_type": "stream",
     "name": "stdout",
     "text": [
      "69846+MELD+MELD.Student3+m+hap+1+eng+en-us.mp4 exceeds 1 minute in duration\n"
     ]
    },
    {
     "output_type": "stream",
     "name": "stderr",
     "text": [
      " 80%|███████▉  | 69885/87364 [3:54:30<2:03:42,  2.35it/s]"
     ]
    },
    {
     "output_type": "stream",
     "name": "stdout",
     "text": [
      "69884+MELD+MELD.Phoebe+f+sad+-1+eng+en-us.mp4 is less than 200 ms after trim\n"
     ]
    },
    {
     "output_type": "stream",
     "name": "stderr",
     "text": [
      " 80%|████████  | 70022/87364 [3:55:44<1:56:34,  2.48it/s]"
     ]
    },
    {
     "output_type": "stream",
     "name": "stdout",
     "text": [
      "70021+MELD+MELD.Chandler+m+ang+-1+eng+en-us.mp4 is less than 200 ms after trim\n"
     ]
    },
    {
     "output_type": "stream",
     "name": "stderr",
     "text": [
      " 80%|████████  | 70098/87364 [3:56:35<2:26:39,  1.96it/s]"
     ]
    },
    {
     "output_type": "stream",
     "name": "stdout",
     "text": [
      "70097+MELD+MELD.Rachel+f+neu+0+eng+en-us.mp4 is less than 200 ms after trim\n"
     ]
    },
    {
     "output_type": "stream",
     "name": "stderr",
     "text": [
      " 80%|████████  | 70120/87364 [3:56:49<2:09:12,  2.22it/s]"
     ]
    },
    {
     "output_type": "stream",
     "name": "stdout",
     "text": [
      "70119+MELD+MELD.Tour Guide+f+neu+0+eng+en-us.mp4 is less than 200 ms after trim\n"
     ]
    },
    {
     "output_type": "stream",
     "name": "stderr",
     "text": [
      " 80%|████████  | 70191/87364 [3:57:32<2:24:11,  1.98it/s]"
     ]
    },
    {
     "output_type": "stream",
     "name": "stdout",
     "text": [
      "70190+MELD+MELD.Joey+m+hap+1+eng+en-us.mp4 is less than 200 ms after trim\n"
     ]
    },
    {
     "output_type": "stream",
     "name": "stderr",
     "text": [
      " 80%|████████  | 70264/87364 [3:58:18<3:11:41,  1.49it/s]"
     ]
    },
    {
     "output_type": "stream",
     "name": "stdout",
     "text": [
      "70263+MELD+MELD.Phoebe+f+neu+0+eng+en-us.mp4 is less than 200 ms after trim\n"
     ]
    },
    {
     "output_type": "stream",
     "name": "stderr",
     "text": [
      " 81%|████████  | 70393/87364 [3:59:32<1:44:37,  2.70it/s]"
     ]
    },
    {
     "output_type": "stream",
     "name": "stdout",
     "text": [
      "70392+MELD+MELD.Phoebe+f+sur+-1+eng+en-us.mp4 is less than 200 ms after trim\n"
     ]
    },
    {
     "output_type": "stream",
     "name": "stderr",
     "text": [
      " 81%|████████  | 70752/87364 [4:03:07<2:17:59,  2.01it/s]"
     ]
    },
    {
     "output_type": "stream",
     "name": "stdout",
     "text": [
      "70751+MELD+MELD.Susan+f+neu+0+eng+en-us.mp4 is less than 200 ms after trim\n"
     ]
    },
    {
     "output_type": "stream",
     "name": "stderr",
     "text": [
      " 81%|████████  | 70769/87364 [4:03:18<2:19:53,  1.98it/s]"
     ]
    },
    {
     "output_type": "stream",
     "name": "stdout",
     "text": [
      "70768+MELD+MELD.Phoebe+f+neu+0+eng+en-us.mp4 is less than 200 ms after trim\n"
     ]
    },
    {
     "output_type": "stream",
     "name": "stderr",
     "text": [
      " 81%|████████  | 70968/87364 [4:05:26<2:38:27,  1.72it/s]"
     ]
    },
    {
     "output_type": "stream",
     "name": "stdout",
     "text": [
      "70967+MELD+MELD.Monica+f+neu+0+eng+en-us.mp4 is less than 200 ms after trim\n"
     ]
    },
    {
     "output_type": "stream",
     "name": "stderr",
     "text": [
      " 81%|████████▏ | 71051/87364 [4:06:24<2:17:35,  1.98it/s]"
     ]
    },
    {
     "output_type": "stream",
     "name": "stdout",
     "text": [
      "71050+MELD+MELD.Chandler+m+sur+-1+eng+en-us.mp4 is less than 200 ms after trim\n"
     ]
    },
    {
     "output_type": "stream",
     "name": "stderr",
     "text": [
      " 81%|████████▏ | 71067/87364 [4:06:34<2:18:53,  1.96it/s]"
     ]
    },
    {
     "output_type": "stream",
     "name": "stdout",
     "text": [
      "71066+MELD+MELD.Joey+m+hap+1+eng+en-us.mp4 is less than 200 ms after trim\n"
     ]
    },
    {
     "output_type": "stream",
     "name": "stderr",
     "text": [
      " 81%|████████▏ | 71098/87364 [4:06:51<2:37:37,  1.72it/s]"
     ]
    },
    {
     "output_type": "stream",
     "name": "stdout",
     "text": [
      "71097+MELD+MELD.Joey+m+neu+0+eng+en-us.mp4 is less than 200 ms after trim\n"
     ]
    },
    {
     "output_type": "stream",
     "name": "stderr",
     "text": [
      " 82%|████████▏ | 71276/87364 [4:08:40<2:01:32,  2.21it/s]"
     ]
    },
    {
     "output_type": "stream",
     "name": "stdout",
     "text": [
      "71275+MELD+MELD.Emily+f+ang+-1+eng+en-us.mp4 is less than 200 ms after trim\n"
     ]
    },
    {
     "output_type": "stream",
     "name": "stderr",
     "text": [
      " 82%|████████▏ | 71580/87364 [4:11:42<1:52:59,  2.33it/s]"
     ]
    },
    {
     "output_type": "stream",
     "name": "stdout",
     "text": [
      "71579+MELD+MELD.Rachel+f+ang+-1+eng+en-us.mp4 is less than 200 ms after trim\n"
     ]
    },
    {
     "output_type": "stream",
     "name": "stderr",
     "text": [
      " 82%|████████▏ | 71634/87364 [4:12:11<2:49:07,  1.55it/s]"
     ]
    },
    {
     "output_type": "stream",
     "name": "stdout",
     "text": [
      "71633+MELD+MELD.Chandler+m+neu+0+eng+en-us.mp4 is less than 200 ms after trim\n"
     ]
    },
    {
     "output_type": "stream",
     "name": "stderr",
     "text": [
      " 82%|████████▏ | 71792/87364 [4:13:50<1:50:53,  2.34it/s]"
     ]
    },
    {
     "output_type": "stream",
     "name": "stdout",
     "text": [
      "71791+MELD+MELD.Chandler+m+neu+0+eng+en-us.mp4 is less than 200 ms after trim\n"
     ]
    },
    {
     "output_type": "stream",
     "name": "stderr",
     "text": [
      " 83%|████████▎ | 72238/87364 [4:18:12<1:45:11,  2.40it/s]"
     ]
    },
    {
     "output_type": "stream",
     "name": "stdout",
     "text": [
      "72237+MELD+MELD.Rachel+f+neu+0+eng+en-us.mp4 is less than 200 ms after trim\n"
     ]
    },
    {
     "output_type": "stream",
     "name": "stderr",
     "text": [
      " 83%|████████▎ | 72396/87364 [4:19:42<1:40:32,  2.48it/s]"
     ]
    },
    {
     "output_type": "stream",
     "name": "stdout",
     "text": [
      "72395+MELD+MELD.Joey+m+sur+-1+eng+en-us.mp4 is less than 200 ms after trim\n"
     ]
    },
    {
     "output_type": "stream",
     "name": "stderr",
     "text": [
      " 83%|████████▎ | 72594/87364 [4:21:36<1:33:40,  2.63it/s]"
     ]
    },
    {
     "output_type": "stream",
     "name": "stdout",
     "text": [
      "72593+MELD+MELD.Phoebe+f+hap+1+eng+en-us.mp4 is less than 200 ms after trim\n"
     ]
    },
    {
     "output_type": "stream",
     "name": "stderr",
     "text": [
      " 83%|████████▎ | 72718/87364 [4:22:54<1:57:59,  2.07it/s]"
     ]
    },
    {
     "output_type": "stream",
     "name": "stdout",
     "text": [
      "72717+MELD+MELD.Joey+m+hap+1+eng+en-us.mp4 is less than 200 ms after trim\n"
     ]
    },
    {
     "output_type": "stream",
     "name": "stderr",
     "text": [
      " 83%|████████▎ | 72768/87364 [4:23:25<1:52:04,  2.17it/s]"
     ]
    },
    {
     "output_type": "stream",
     "name": "stdout",
     "text": [
      "72767+MELD+MELD.Rachel+f+sur+1+eng+en-us.mp4 is less than 200 ms after trim\n"
     ]
    },
    {
     "output_type": "stream",
     "name": "stderr",
     "text": [
      " 83%|████████▎ | 72942/87364 [4:25:09<1:51:03,  2.16it/s]"
     ]
    },
    {
     "output_type": "stream",
     "name": "stdout",
     "text": [
      "72941+MELD+MELD.Joey+m+neu+0+eng+en-us.mp4 is less than 200 ms after trim\n"
     ]
    },
    {
     "output_type": "stream",
     "name": "stderr",
     "text": [
      " 84%|████████▎ | 72960/87364 [4:25:20<1:40:17,  2.39it/s]"
     ]
    },
    {
     "output_type": "stream",
     "name": "stdout",
     "text": [
      "72959+MELD+MELD.Ross+m+sur+1+eng+en-us.mp4 is less than 200 ms after trim\n"
     ]
    },
    {
     "output_type": "stream",
     "name": "stderr",
     "text": [
      " 84%|████████▎ | 73019/87364 [4:25:53<1:59:06,  2.01it/s]"
     ]
    },
    {
     "output_type": "stream",
     "name": "stdout",
     "text": [
      "73018+MELD+MELD.Monica+f+neu+0+eng+en-us.mp4 is less than 200 ms after trim\n"
     ]
    },
    {
     "output_type": "stream",
     "name": "stderr",
     "text": [
      " 84%|████████▍ | 73173/87364 [4:27:22<2:14:26,  1.76it/s]"
     ]
    },
    {
     "output_type": "stream",
     "name": "stdout",
     "text": [
      "73172+MELD+MELD.Rachel+f+fea+-1+eng+en-us.mp4 is less than 200 ms after trim\n"
     ]
    },
    {
     "output_type": "stream",
     "name": "stderr",
     "text": [
      " 84%|████████▍ | 73334/87364 [4:28:51<1:45:12,  2.22it/s]"
     ]
    },
    {
     "output_type": "stream",
     "name": "stdout",
     "text": [
      "73333+MELD+MELD.Joey+m+neu+0+eng+en-us.mp4 is less than 200 ms after trim\n"
     ]
    },
    {
     "output_type": "stream",
     "name": "stderr",
     "text": [
      " 84%|████████▍ | 73340/87364 [4:28:54<1:38:16,  2.38it/s]"
     ]
    },
    {
     "output_type": "stream",
     "name": "stdout",
     "text": [
      "73339+MELD+MELD.Carol+f+neu+0+eng+en-us.mp4 is less than 200 ms after trim\n"
     ]
    },
    {
     "output_type": "stream",
     "name": "stderr",
     "text": [
      " 84%|████████▍ | 73495/87364 [4:30:35<1:38:48,  2.34it/s]"
     ]
    },
    {
     "output_type": "stream",
     "name": "stdout",
     "text": [
      "73494+MELD+MELD.Phoebe+f+sur+1+eng+en-us.mp4 is less than 200 ms after trim\n"
     ]
    },
    {
     "output_type": "stream",
     "name": "stderr",
     "text": [
      " 84%|████████▍ | 73505/87364 [4:30:39<1:16:20,  3.03it/s]"
     ]
    },
    {
     "output_type": "stream",
     "name": "stdout",
     "text": [
      "73504+MELD+MELD.Ross+m+neu+0+eng+en-us.mp4 is less than 200 ms after trim\n"
     ]
    },
    {
     "output_type": "stream",
     "name": "stderr",
     "text": [
      " 84%|████████▍ | 73515/87364 [4:30:45<2:16:37,  1.69it/s]"
     ]
    },
    {
     "output_type": "stream",
     "name": "stdout",
     "text": [
      "73514+MELD+MELD.Monica+f+neu+0+eng+en-us.mp4 is less than 200 ms after trim\n"
     ]
    },
    {
     "output_type": "stream",
     "name": "stderr",
     "text": [
      " 84%|████████▍ | 73716/87364 [4:32:33<2:00:12,  1.89it/s]"
     ]
    },
    {
     "output_type": "stream",
     "name": "stdout",
     "text": [
      "73715+MELD+MELD.Ross+m+ang+-1+eng+en-us.mp4 is less than 200 ms after trim\n"
     ]
    },
    {
     "output_type": "stream",
     "name": "stderr",
     "text": [
      " 84%|████████▍ | 73737/87364 [4:32:45<1:55:11,  1.97it/s]"
     ]
    },
    {
     "output_type": "stream",
     "name": "stdout",
     "text": [
      "73736+MELD+MELD.Rachel+f+ang+-1+eng+en-us.mp4 is less than 200 ms after trim\n"
     ]
    },
    {
     "output_type": "stream",
     "name": "stderr",
     "text": [
      " 84%|████████▍ | 73782/87364 [4:33:06<1:21:52,  2.76it/s]"
     ]
    },
    {
     "output_type": "stream",
     "name": "stdout",
     "text": [
      "73781+MELD+MELD.Ross+m+ang+-1+eng+en-us.mp4 is less than 200 ms after trim\n"
     ]
    },
    {
     "output_type": "stream",
     "name": "stderr",
     "text": [
      " 85%|████████▍ | 73858/87364 [4:33:46<1:26:52,  2.59it/s]"
     ]
    },
    {
     "output_type": "stream",
     "name": "stdout",
     "text": [
      "73857+MELD+MELD.Phoebe+f+hap+1+eng+en-us.mp4 is less than 200 ms after trim\n"
     ]
    },
    {
     "output_type": "stream",
     "name": "stderr",
     "text": [
      " 85%|████████▍ | 73891/87364 [4:34:08<1:20:07,  2.80it/s]"
     ]
    },
    {
     "output_type": "stream",
     "name": "stdout",
     "text": [
      "73890+MELD+MELD.Ross+m+neu+0+eng+en-us.mp4 is less than 200 ms after trim\n"
     ]
    },
    {
     "output_type": "stream",
     "name": "stderr",
     "text": [
      " 85%|████████▍ | 73924/87364 [4:34:26<1:29:35,  2.50it/s]"
     ]
    },
    {
     "output_type": "stream",
     "name": "stdout",
     "text": [
      "73923+MELD+MELD.Joey+m+neu+0+eng+en-us.mp4 is less than 200 ms after trim\n"
     ]
    },
    {
     "output_type": "stream",
     "name": "stderr",
     "text": [
      " 85%|████████▍ | 73980/87364 [4:34:56<1:46:04,  2.10it/s]"
     ]
    },
    {
     "output_type": "stream",
     "name": "stdout",
     "text": [
      "73979+MELD+MELD.Susan+f+sur+-1+eng+en-us.mp4 is less than 200 ms after trim\n"
     ]
    },
    {
     "output_type": "stream",
     "name": "stderr",
     "text": [
      " 85%|████████▍ | 74176/87364 [4:36:45<1:39:15,  2.21it/s]"
     ]
    },
    {
     "output_type": "stream",
     "name": "stdout",
     "text": [
      "74175+MELD+MELD.Joey+m+ang+-1+eng+en-us.mp4 is less than 200 ms after trim\n"
     ]
    },
    {
     "output_type": "stream",
     "name": "stderr",
     "text": [
      " 85%|████████▌ | 74395/87364 [4:38:46<1:13:04,  2.96it/s]"
     ]
    },
    {
     "output_type": "stream",
     "name": "stdout",
     "text": [
      "74394+MELD+MELD.Rachel+f+neu+0+eng+en-us.mp4 is less than 200 ms after trim\n"
     ]
    },
    {
     "output_type": "stream",
     "name": "stderr",
     "text": [
      " 85%|████████▌ | 74449/87364 [4:39:13<1:25:00,  2.53it/s]"
     ]
    },
    {
     "output_type": "stream",
     "name": "stdout",
     "text": [
      "74448+MELD+MELD.Chandler+m+ang+-1+eng+en-us.mp4 is less than 200 ms after trim\n"
     ]
    },
    {
     "output_type": "stream",
     "name": "stderr",
     "text": [
      " 85%|████████▌ | 74509/87364 [4:39:46<2:15:08,  1.59it/s]"
     ]
    },
    {
     "output_type": "stream",
     "name": "stdout",
     "text": [
      "74508+MELD+MELD.Ross+m+sur+-1+eng+en-us.mp4 is less than 200 ms after trim\n"
     ]
    },
    {
     "output_type": "stream",
     "name": "stderr",
     "text": [
      " 85%|████████▌ | 74530/87364 [4:39:57<1:31:06,  2.35it/s]"
     ]
    },
    {
     "output_type": "stream",
     "name": "stdout",
     "text": [
      "74529+MELD+MELD.Monica+f+neu+0+eng+en-us.mp4 is less than 200 ms after trim\n"
     ]
    },
    {
     "output_type": "stream",
     "name": "stderr",
     "text": [
      " 85%|████████▌ | 74620/87364 [4:40:46<2:09:22,  1.64it/s]"
     ]
    },
    {
     "output_type": "stream",
     "name": "stdout",
     "text": [
      "74619+MELD+MELD.Phoebe+f+hap+1+eng+en-us.mp4 is less than 200 ms after trim\n"
     ]
    },
    {
     "output_type": "stream",
     "name": "stderr",
     "text": [
      " 85%|████████▌ | 74622/87364 [4:40:47<1:47:31,  1.97it/s]"
     ]
    },
    {
     "output_type": "stream",
     "name": "stdout",
     "text": [
      "74621+MELD+MELD.Rachel+f+hap+1+eng+en-us.mp4 is less than 200 ms after trim\n"
     ]
    },
    {
     "output_type": "stream",
     "name": "stderr",
     "text": [
      " 85%|████████▌ | 74674/87364 [4:41:16<1:57:09,  1.81it/s]"
     ]
    },
    {
     "output_type": "stream",
     "name": "stdout",
     "text": [
      "74673+MELD+MELD.Ross+m+hap+1+eng+en-us.mp4 is less than 200 ms after trim\n"
     ]
    },
    {
     "output_type": "stream",
     "name": "stderr",
     "text": [
      " 86%|████████▌ | 74783/87364 [4:42:18<1:31:00,  2.30it/s]"
     ]
    },
    {
     "output_type": "stream",
     "name": "stdout",
     "text": [
      "74782+MELD+MELD.Joey+m+ang+-1+eng+en-us.mp4 is less than 200 ms after trim\n"
     ]
    },
    {
     "output_type": "stream",
     "name": "stderr",
     "text": [
      "100%|██████████| 87364/87364 [5:08:17<00:00,  4.72it/s]"
     ]
    },
    {
     "output_type": "stream",
     "name": "stdout",
     "text": [
      "no problems in conversion\n"
     ]
    },
    {
     "output_type": "stream",
     "name": "stderr",
     "text": [
      "\n"
     ]
    }
   ],
   "metadata": {}
  },
  {
   "cell_type": "code",
   "execution_count": 12,
   "source": [
    "print(f\"There were {len(short_files)} files discarded because they were shorter than 200 milliseconds.\")"
   ],
   "outputs": [
    {
     "output_type": "stream",
     "name": "stdout",
     "text": [
      "There were 211 files discarded because they were shorter than 200 milliseconds.\n"
     ]
    }
   ],
   "metadata": {}
  },
  {
   "cell_type": "code",
   "execution_count": 13,
   "source": [
    "print(f\"There were {len(long_files)} files discarded because duration exceeded 1 minute.\")"
   ],
   "outputs": [
    {
     "output_type": "stream",
     "name": "stdout",
     "text": [
      "There were 7 files discarded because duration exceeded 1 minute.\n"
     ]
    }
   ],
   "metadata": {}
  },
  {
   "cell_type": "code",
   "execution_count": 14,
   "source": [
    "print(f\"There were {len(bad_files)} bad files.\")"
   ],
   "outputs": [
    {
     "output_type": "stream",
     "name": "stdout",
     "text": [
      "There were 0 bad files.\n"
     ]
    }
   ],
   "metadata": {}
  },
  {
   "cell_type": "code",
   "execution_count": 15,
   "source": [
    "if bad_files:\r\n",
    "    print(*bad_files, sep=\"\\n\")"
   ],
   "outputs": [],
   "metadata": {}
  },
  {
   "cell_type": "code",
   "execution_count": null,
   "source": [],
   "outputs": [],
   "metadata": {}
  }
 ],
 "metadata": {
  "kernelspec": {
   "name": "python3",
   "display_name": "Python 3.9.7 64-bit (conda)"
  },
  "language_info": {
   "codemirror_mode": {
    "name": "ipython",
    "version": 3
   },
   "file_extension": ".py",
   "mimetype": "text/x-python",
   "name": "python",
   "nbconvert_exporter": "python",
   "pygments_lexer": "ipython3",
   "version": "3.9.7"
  },
  "interpreter": {
   "hash": "3153c5f9447baeea76b8284fe09bd4a9bb783541a5da777bfa3fd9db50812060"
  }
 },
 "nbformat": 4,
 "nbformat_minor": 5
}